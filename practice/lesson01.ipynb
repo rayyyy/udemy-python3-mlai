{
 "cells": [
  {
   "cell_type": "code",
   "execution_count": 1,
   "id": "fa42ab76-1bc3-4e77-bcc0-67e91e27eb4e",
   "metadata": {},
   "outputs": [],
   "source": [
    "%load_ext lab_black"
   ]
  },
  {
   "cell_type": "markdown",
   "id": "43a22d0b-13cb-4414-a003-9a0286a36e45",
   "metadata": {},
   "source": [
    "# 配列を作る"
   ]
  },
  {
   "cell_type": "markdown",
   "id": "bf48845d-1997-4da9-ab6e-89f37d046ef9",
   "metadata": {},
   "source": [
    "## リストから配列への変換"
   ]
  },
  {
   "cell_type": "code",
   "execution_count": 2,
   "id": "83010c1d-6e1e-4011-8bce-84e4ca35add0",
   "metadata": {},
   "outputs": [],
   "source": [
    "import numpy as np"
   ]
  },
  {
   "cell_type": "code",
   "execution_count": 3,
   "id": "2a058ee0-c9e0-47fd-99fe-178eacb5e227",
   "metadata": {},
   "outputs": [
    {
     "name": "stdout",
     "output_type": "stream",
     "text": [
      "[1, 2, 3, 4, 5]\n"
     ]
    }
   ],
   "source": [
    "lst = [1, 2, 3, 4, 5]\n",
    "print(lst)"
   ]
  },
  {
   "cell_type": "code",
   "execution_count": 4,
   "id": "e0fac4fe-a84c-4991-ac4a-7ad0a663f8ef",
   "metadata": {},
   "outputs": [
    {
     "name": "stdout",
     "output_type": "stream",
     "text": [
      "[1 2 3 4 5]\n"
     ]
    }
   ],
   "source": [
    "ar = np.array(lst)\n",
    "print(ar)"
   ]
  },
  {
   "cell_type": "markdown",
   "id": "2f1bd4dd-f194-4072-bcf7-78919853c796",
   "metadata": {},
   "source": [
    "## 範囲を指定した数列"
   ]
  },
  {
   "cell_type": "code",
   "execution_count": 5,
   "id": "fefe793d-6008-47c1-8df3-89d2a7e4f3d6",
   "metadata": {},
   "outputs": [
    {
     "name": "stdout",
     "output_type": "stream",
     "text": [
      "[-2.0000000e+00 -1.8000000e+00 -1.6000000e+00 -1.4000000e+00\n",
      " -1.2000000e+00 -1.0000000e+00 -8.0000000e-01 -6.0000000e-01\n",
      " -4.0000000e-01 -2.0000000e-01 -4.4408921e-16  2.0000000e-01\n",
      "  4.0000000e-01  6.0000000e-01  8.0000000e-01  1.0000000e+00\n",
      "  1.2000000e+00  1.4000000e+00  1.6000000e+00  1.8000000e+00]\n"
     ]
    }
   ],
   "source": [
    "x = np.arange(-2, 2, 0.2)\n",
    "print(x)"
   ]
  },
  {
   "cell_type": "code",
   "execution_count": 7,
   "id": "052cd3ae-7d86-4e10-8b30-298da64b8f91",
   "metadata": {},
   "outputs": [
    {
     "name": "stdout",
     "output_type": "stream",
     "text": [
      "[-2.  -1.8 -1.6 -1.4 -1.2 -1.  -0.8 -0.6 -0.4 -0.2  0.   0.2  0.4  0.6\n",
      "  0.8  1.   1.2  1.4  1.6  1.8  2. ]\n"
     ]
    }
   ],
   "source": [
    "x = np.linspace(-2, 2, 21)\n",
    "print(x)"
   ]
  },
  {
   "cell_type": "markdown",
   "id": "c1fb7610-28d5-40a1-a59c-dddff54019ce",
   "metadata": {},
   "source": [
    "## 放物線のプロット"
   ]
  },
  {
   "cell_type": "code",
   "execution_count": 8,
   "id": "53dd0237-aa7d-470c-bcce-412abcce39be",
   "metadata": {},
   "outputs": [],
   "source": [
    "y = x ** 2"
   ]
  },
  {
   "cell_type": "code",
   "execution_count": 9,
   "id": "5b39e7b8-9ad6-4074-b9ff-efdef2ba5c58",
   "metadata": {},
   "outputs": [
    {
     "data": {
      "text/plain": [
       "[<matplotlib.lines.Line2D at 0x7fce57cb9180>]"
      ]
     },
     "execution_count": 9,
     "metadata": {},
     "output_type": "execute_result"
    },
    {
     "data": {
      "image/png": "[encoded data removed]",
      "text/plain": [
       "<Figure size 432x288 with 1 Axes>"
      ]
     },
     "metadata": {
      "needs_background": "light"
     },
     "output_type": "display_data"
    }
   ],
   "source": [
    "import matplotlib.pyplot as plt\n",
    "\n",
    "plt.plot(x, y)"
   ]
  },
  {
   "cell_type": "markdown",
   "id": "b6eac59c-3618-4935-9163-d3c65a27c16b",
   "metadata": {},
   "source": [
    "# NumPyで扱う値"
   ]
  },
  {
   "cell_type": "code",
   "execution_count": 10,
   "id": "648013a2-8e3b-41b1-af06-eda9cddd4ff8",
   "metadata": {},
   "outputs": [
    {
     "data": {
      "text/plain": [
       "array([1, 2, 3])"
      ]
     },
     "execution_count": 10,
     "metadata": {},
     "output_type": "execute_result"
    }
   ],
   "source": [
    "ar = np.array([1, 2, 3])\n",
    "ar"
   ]
  },
  {
   "cell_type": "code",
   "execution_count": 11,
   "id": "6fe60af2-9002-4406-bd66-42a9a361bd9d",
   "metadata": {},
   "outputs": [
    {
     "data": {
      "text/plain": [
       "dtype('int64')"
      ]
     },
     "execution_count": 11,
     "metadata": {},
     "output_type": "execute_result"
    }
   ],
   "source": [
    "ar.dtype"
   ]
  },
  {
   "cell_type": "code",
   "execution_count": 12,
   "id": "01b83c3b-fe4d-44c2-8f24-0ebd59fb86e5",
   "metadata": {},
   "outputs": [
    {
     "data": {
      "text/plain": [
       "array([1., 2., 3.])"
      ]
     },
     "execution_count": 12,
     "metadata": {},
     "output_type": "execute_result"
    }
   ],
   "source": [
    "ar2 = np.array([1.0, 2.0, 3.0])\n",
    "ar2"
   ]
  },
  {
   "cell_type": "code",
   "execution_count": 13,
   "id": "51140693-d926-4e20-8e53-9cc169a04bdf",
   "metadata": {},
   "outputs": [
    {
     "data": {
      "text/plain": [
       "dtype('float64')"
      ]
     },
     "execution_count": 13,
     "metadata": {},
     "output_type": "execute_result"
    }
   ],
   "source": [
    "ar2.dtype"
   ]
  },
  {
   "cell_type": "code",
   "execution_count": 17,
   "id": "a88820e2-9c41-4338-98c0-4eb37944d4e7",
   "metadata": {},
   "outputs": [
    {
     "data": {
      "text/plain": [
       "array([1, 2, 3])"
      ]
     },
     "execution_count": 17,
     "metadata": {},
     "output_type": "execute_result"
    }
   ],
   "source": [
    "ar3 = ar2.astype(\"int64\")\n",
    "ar3"
   ]
  },
  {
   "cell_type": "code",
   "execution_count": 19,
   "id": "f1eda351-651d-4473-ac5c-01431daed92f",
   "metadata": {},
   "outputs": [
    {
     "data": {
      "text/plain": [
       "array([1., 2., 3.])"
      ]
     },
     "execution_count": 19,
     "metadata": {},
     "output_type": "execute_result"
    }
   ],
   "source": [
    "ar4 = ar3.astype(\"float64\")\n",
    "ar4"
   ]
  },
  {
   "cell_type": "markdown",
   "id": "701a9f7c-72de-4e9e-a4f7-bbd5e8e830fb",
   "metadata": {},
   "source": [
    "## 単精度への変換"
   ]
  },
  {
   "cell_type": "code",
   "execution_count": 20,
   "id": "d8784ce4-5a8c-472b-9d6f-285f1dd57e0e",
   "metadata": {},
   "outputs": [
    {
     "data": {
      "text/plain": [
       "array([1., 2., 3.], dtype=float32)"
      ]
     },
     "execution_count": 20,
     "metadata": {},
     "output_type": "execute_result"
    }
   ],
   "source": [
    "ar5 = ar4.astype(\"float32\")\n",
    "ar5"
   ]
  },
  {
   "cell_type": "code",
   "execution_count": 22,
   "id": "9c02a333-eb67-473f-b3e2-2a921d3e4b83",
   "metadata": {},
   "outputs": [
    {
     "data": {
      "text/plain": [
       "array([3.14159265])"
      ]
     },
     "execution_count": 22,
     "metadata": {},
     "output_type": "execute_result"
    }
   ],
   "source": [
    "ar6 = np.array([np.pi])\n",
    "ar6"
   ]
  },
  {
   "cell_type": "code",
   "execution_count": 23,
   "id": "bf2c414d-f7f7-48e6-b6bd-f008553e1dc5",
   "metadata": {},
   "outputs": [
    {
     "data": {
      "text/plain": [
       "dtype('int64')"
      ]
     },
     "execution_count": 23,
     "metadata": {},
     "output_type": "execute_result"
    }
   ],
   "source": [
    "ar.dtype"
   ]
  },
  {
   "cell_type": "code",
   "execution_count": 24,
   "id": "cd8d6a4a-081b-4ce2-a7b7-7e74de1fea83",
   "metadata": {},
   "outputs": [
    {
     "data": {
      "text/plain": [
       "array([3.1415927], dtype=float32)"
      ]
     },
     "execution_count": 24,
     "metadata": {},
     "output_type": "execute_result"
    }
   ],
   "source": [
    "ar7 = ar6.astype(\"float32\")\n",
    "ar7"
   ]
  },
  {
   "cell_type": "markdown",
   "id": "5293080e-60ab-4a75-8fad-33ed4807cee1",
   "metadata": {},
   "source": [
    "## 半制度への変換"
   ]
  },
  {
   "cell_type": "code",
   "execution_count": 25,
   "id": "b1da494a-36e5-47a8-bbad-fda6e46ae253",
   "metadata": {},
   "outputs": [
    {
     "data": {
      "text/plain": [
       "array([3.14], dtype=float16)"
      ]
     },
     "execution_count": 25,
     "metadata": {},
     "output_type": "execute_result"
    }
   ],
   "source": [
    "ar8 = ar7.astype(\"float16\")\n",
    "ar8"
   ]
  },
  {
   "cell_type": "markdown",
   "id": "d5b6b6fc-639c-456a-9510-2375c9862ad8",
   "metadata": {},
   "source": [
    "# 特殊な値"
   ]
  },
  {
   "cell_type": "code",
   "execution_count": 26,
   "id": "48974071-75e8-4fc6-b4c3-1241d7ad26b1",
   "metadata": {},
   "outputs": [
    {
     "data": {
      "text/plain": [
       "array([-2., -1.,  0.,  1.,  2.])"
      ]
     },
     "execution_count": 26,
     "metadata": {},
     "output_type": "execute_result"
    }
   ],
   "source": [
    "x = np.linspace(-2, 2, 5)\n",
    "x"
   ]
  },
  {
   "cell_type": "code",
   "execution_count": 27,
   "id": "9a17b649-f3e3-4e72-a467-9d5053e4515b",
   "metadata": {},
   "outputs": [
    {
     "name": "stderr",
     "output_type": "stream",
     "text": [
      "/tmp/ipykernel_137/489713567.py:1: RuntimeWarning: divide by zero encountered in true_divide\n",
      "  y = 1/x\n"
     ]
    },
    {
     "data": {
      "text/plain": [
       "array([-0.5, -1. ,  inf,  1. ,  0.5])"
      ]
     },
     "execution_count": 27,
     "metadata": {},
     "output_type": "execute_result"
    }
   ],
   "source": [
    "y = 1 / x\n",
    "y"
   ]
  },
  {
   "cell_type": "code",
   "execution_count": 28,
   "id": "4e616794-b285-4137-ba3b-458d0903865e",
   "metadata": {},
   "outputs": [
    {
     "data": {
      "text/plain": [
       "inf"
      ]
     },
     "execution_count": 28,
     "metadata": {},
     "output_type": "execute_result"
    }
   ],
   "source": [
    "y[2]"
   ]
  },
  {
   "cell_type": "code",
   "execution_count": 29,
   "id": "3cc87130-5f3d-459f-ae15-4754a2be2050",
   "metadata": {},
   "outputs": [
    {
     "data": {
      "text/plain": [
       "dtype('float64')"
      ]
     },
     "execution_count": 29,
     "metadata": {},
     "output_type": "execute_result"
    }
   ],
   "source": [
    "y[2].dtype"
   ]
  },
  {
   "cell_type": "code",
   "execution_count": 30,
   "id": "930ef74b-baa4-4211-8f3d-86e9196b27d9",
   "metadata": {},
   "outputs": [
    {
     "name": "stderr",
     "output_type": "stream",
     "text": [
      "/tmp/ipykernel_137/203992715.py:2: RuntimeWarning: invalid value encountered in double_scalars\n",
      "  y[2] -y[2]\n"
     ]
    },
    {
     "data": {
      "text/plain": [
       "nan"
      ]
     },
     "execution_count": 30,
     "metadata": {},
     "output_type": "execute_result"
    }
   ],
   "source": [
    "y[2] + y[2]\n",
    "y[2] - y[2]"
   ]
  },
  {
   "cell_type": "code",
   "execution_count": 31,
   "id": "448d7747-a9e8-45db-9a74-6cb7bd498a59",
   "metadata": {},
   "outputs": [
    {
     "data": {
      "text/plain": [
       "inf"
      ]
     },
     "execution_count": 31,
     "metadata": {},
     "output_type": "execute_result"
    }
   ],
   "source": [
    "np.inf"
   ]
  },
  {
   "cell_type": "code",
   "execution_count": 32,
   "id": "574d9082-7727-4432-b735-90048e7d844d",
   "metadata": {},
   "outputs": [
    {
     "data": {
      "text/plain": [
       "-inf"
      ]
     },
     "execution_count": 32,
     "metadata": {},
     "output_type": "execute_result"
    }
   ],
   "source": [
    "-np.inf"
   ]
  },
  {
   "cell_type": "markdown",
   "id": "28e0bd5c-5970-4d99-9ec3-17235e438155",
   "metadata": {},
   "source": [
    "# 多次元配列"
   ]
  },
  {
   "cell_type": "markdown",
   "id": "64aff124-193d-4eef-9566-5e8a4d7070b8",
   "metadata": {},
   "source": [
    "## 二次元配列"
   ]
  },
  {
   "cell_type": "code",
   "execution_count": 33,
   "id": "40b1c144-dd4e-4021-a00f-ae3f9cc9fcf4",
   "metadata": {},
   "outputs": [
    {
     "data": {
      "text/plain": [
       "array([[11, 12],\n",
       "       [21, 22]])"
      ]
     },
     "execution_count": 33,
     "metadata": {},
     "output_type": "execute_result"
    }
   ],
   "source": [
    "A = np.array([[11, 12], [21, 22]])\n",
    "A"
   ]
  },
  {
   "cell_type": "code",
   "execution_count": 34,
   "id": "ce91f33d-d779-4e94-93b0-fe1b8f29e5dd",
   "metadata": {},
   "outputs": [
    {
     "data": {
      "text/plain": [
       "11"
      ]
     },
     "execution_count": 34,
     "metadata": {},
     "output_type": "execute_result"
    }
   ],
   "source": [
    "A[0, 0]"
   ]
  },
  {
   "cell_type": "code",
   "execution_count": 35,
   "id": "c536c3e4-824b-48d0-acf5-6f8945f4b47e",
   "metadata": {},
   "outputs": [
    {
     "data": {
      "text/plain": [
       "(2, 2)"
      ]
     },
     "execution_count": 35,
     "metadata": {},
     "output_type": "execute_result"
    }
   ],
   "source": [
    "A.shape"
   ]
  },
  {
   "cell_type": "markdown",
   "id": "a7f06337-bf22-4ab5-8647-59412022e128",
   "metadata": {},
   "source": [
    "### 参考"
   ]
  },
  {
   "cell_type": "code",
   "execution_count": 37,
   "id": "b021c0d7-6188-47fb-8030-d30a02bc39fa",
   "metadata": {},
   "outputs": [
    {
     "data": {
      "text/plain": [
       "11"
      ]
     },
     "execution_count": 37,
     "metadata": {},
     "output_type": "execute_result"
    }
   ],
   "source": [
    "A[0][0]"
   ]
  },
  {
   "cell_type": "markdown",
   "id": "abe58d57-48fa-4363-8d2b-3958a28a9a31",
   "metadata": {},
   "source": [
    "## 1や0を並べた配列"
   ]
  },
  {
   "cell_type": "code",
   "execution_count": 38,
   "id": "4247c47e-7d28-438d-a773-cdf2113108ab",
   "metadata": {},
   "outputs": [
    {
     "data": {
      "text/plain": [
       "array([1., 1., 1., 1., 1., 1., 1., 1., 1., 1.])"
      ]
     },
     "execution_count": 38,
     "metadata": {},
     "output_type": "execute_result"
    }
   ],
   "source": [
    "np.ones(10)"
   ]
  },
  {
   "cell_type": "code",
   "execution_count": 39,
   "id": "2b9d2b75-f463-494b-978c-32e7faecbdad",
   "metadata": {},
   "outputs": [
    {
     "data": {
      "text/plain": [
       "array([[1., 1.],\n",
       "       [1., 1.]])"
      ]
     },
     "execution_count": 39,
     "metadata": {},
     "output_type": "execute_result"
    }
   ],
   "source": [
    "np.ones((2, 2))"
   ]
  },
  {
   "cell_type": "code",
   "execution_count": 41,
   "id": "a287fd79-5344-402f-9dd9-4ce7f53fc853",
   "metadata": {},
   "outputs": [
    {
     "data": {
      "text/plain": [
       "array([[0., 0., 0., 0., 0.],\n",
       "       [0., 0., 0., 0., 0.],\n",
       "       [0., 0., 0., 0., 0.],\n",
       "       [0., 0., 0., 0., 0.],\n",
       "       [0., 0., 0., 0., 0.]])"
      ]
     },
     "execution_count": 41,
     "metadata": {},
     "output_type": "execute_result"
    }
   ],
   "source": [
    "z = np.zeros((5, 5))\n",
    "z"
   ]
  },
  {
   "cell_type": "markdown",
   "id": "930e0e05-80a0-462d-b958-70608e5f1bd8",
   "metadata": {},
   "source": [
    "## 既存の配列の編集"
   ]
  },
  {
   "cell_type": "code",
   "execution_count": 42,
   "id": "59ff29b7-0247-4037-995c-9ff7d15d32aa",
   "metadata": {},
   "outputs": [
    {
     "data": {
      "text/plain": [
       "array([[0., 0., 0., 0., 0.],\n",
       "       [0., 3., 0., 0., 0.],\n",
       "       [0., 0., 0., 0., 0.],\n",
       "       [0., 0., 0., 0., 0.],\n",
       "       [0., 0., 0., 0., 0.]])"
      ]
     },
     "execution_count": 42,
     "metadata": {},
     "output_type": "execute_result"
    }
   ],
   "source": [
    "z[1, 1] = 3\n",
    "z"
   ]
  },
  {
   "cell_type": "markdown",
   "id": "36148d47-40e9-4d7f-8d1c-aacf17486bfc",
   "metadata": {},
   "source": [
    "## 特定の値で満たす"
   ]
  },
  {
   "cell_type": "code",
   "execution_count": 44,
   "id": "0f10be62-03d6-4253-8444-0a84deb6a128",
   "metadata": {},
   "outputs": [
    {
     "data": {
      "text/plain": [
       "array([[7., 7., 7., 7., 7.],\n",
       "       [7., 7., 7., 7., 7.],\n",
       "       [7., 7., 7., 7., 7.],\n",
       "       [7., 7., 7., 7., 7.],\n",
       "       [7., 7., 7., 7., 7.]])"
      ]
     },
     "execution_count": 44,
     "metadata": {},
     "output_type": "execute_result"
    }
   ],
   "source": [
    "z.fill(7)\n",
    "z"
   ]
  },
  {
   "cell_type": "markdown",
   "id": "dee14ca0-7b6e-46a4-8774-601a1c3d4e45",
   "metadata": {},
   "source": [
    "## 3次元の配列"
   ]
  },
  {
   "cell_type": "code",
   "execution_count": 45,
   "id": "7bd4272e-b4c7-4bf4-a624-f97ea5560538",
   "metadata": {},
   "outputs": [
    {
     "data": {
      "text/plain": [
       "array([[[111, 112],\n",
       "        [121, 122]],\n",
       "\n",
       "       [[211, 212],\n",
       "        [221, 222]]])"
      ]
     },
     "execution_count": 45,
     "metadata": {},
     "output_type": "execute_result"
    }
   ],
   "source": [
    "a3d = np.array([[[111, 112], [121, 122]], [[211, 212], [221, 222]]])\n",
    "a3d"
   ]
  },
  {
   "cell_type": "code",
   "execution_count": 46,
   "id": "00e7eefa-076d-4900-9fc8-3894e5dc3d6e",
   "metadata": {},
   "outputs": [
    {
     "data": {
      "text/plain": [
       "(2, 2, 2)"
      ]
     },
     "execution_count": 46,
     "metadata": {},
     "output_type": "execute_result"
    }
   ],
   "source": [
    "a3d.shape"
   ]
  },
  {
   "cell_type": "code",
   "execution_count": 47,
   "id": "64135588-6e4b-4398-8792-738f720258d7",
   "metadata": {},
   "outputs": [
    {
     "data": {
      "text/plain": [
       "122"
      ]
     },
     "execution_count": 47,
     "metadata": {},
     "output_type": "execute_result"
    }
   ],
   "source": [
    "a3d[0, 1, 1]"
   ]
  },
  {
   "cell_type": "code",
   "execution_count": 48,
   "id": "f86b4843-5a0c-4f85-ac0c-4d173838a810",
   "metadata": {},
   "outputs": [
    {
     "data": {
      "text/plain": [
       "212"
      ]
     },
     "execution_count": 48,
     "metadata": {},
     "output_type": "execute_result"
    }
   ],
   "source": [
    "a3d[1, 0, 1]"
   ]
  }
 ],
 "metadata": {
  "kernelspec": {
   "display_name": "Python 3 (ipykernel)",
   "language": "python",
   "name": "python3"
  },
  "language_info": {
   "codemirror_mode": {
    "name": "ipython",
    "version": 3
   },
   "file_extension": ".py",
   "mimetype": "text/x-python",
   "name": "python",
   "nbconvert_exporter": "python",
   "pygments_lexer": "ipython3",
   "version": "3.10.0"
  }
 },
 "nbformat": 4,
 "nbformat_minor": 5
}
