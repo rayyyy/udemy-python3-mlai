{
 "cells": [
  {
   "cell_type": "markdown",
   "id": "23a93508-dce0-43e5-9d7e-31f0d8825e81",
   "metadata": {},
   "source": [
    "# NumPyの利用"
   ]
  },
  {
   "cell_type": "code",
   "execution_count": 1,
   "id": "b799cb74-2065-4c70-9b5a-4bba6837a37e",
   "metadata": {},
   "outputs": [],
   "source": [
    "import numpy"
   ]
  },
  {
   "cell_type": "code",
   "execution_count": 2,
   "id": "861fe2e6-9f40-4fcf-aaa0-3b32be2414bf",
   "metadata": {},
   "outputs": [],
   "source": [
    "x = numpy.arange( -2, 2, 0.2 )"
   ]
  },
  {
   "cell_type": "code",
   "execution_count": 3,
   "id": "f3158330-aa44-4200-bde7-b96a0bb83aeb",
   "metadata": {},
   "outputs": [
    {
     "data": {
      "text/plain": [
       "array([-2.0000000e+00, -1.8000000e+00, -1.6000000e+00, -1.4000000e+00,\n",
       "       -1.2000000e+00, -1.0000000e+00, -8.0000000e-01, -6.0000000e-01,\n",
       "       -4.0000000e-01, -2.0000000e-01, -4.4408921e-16,  2.0000000e-01,\n",
       "        4.0000000e-01,  6.0000000e-01,  8.0000000e-01,  1.0000000e+00,\n",
       "        1.2000000e+00,  1.4000000e+00,  1.6000000e+00,  1.8000000e+00])"
      ]
     },
     "execution_count": 3,
     "metadata": {},
     "output_type": "execute_result"
    }
   ],
   "source": [
    "x"
   ]
  },
  {
   "cell_type": "code",
   "execution_count": 4,
   "id": "5e671676-febc-44ee-975a-8014e85d2562",
   "metadata": {},
   "outputs": [
    {
     "data": {
      "text/plain": [
       "-1.8"
      ]
     },
     "execution_count": 4,
     "metadata": {},
     "output_type": "execute_result"
    }
   ],
   "source": [
    "x[1]"
   ]
  },
  {
   "cell_type": "code",
   "execution_count": 5,
   "id": "ebfc0dfa-0a55-41aa-aceb-cbb425cdda1b",
   "metadata": {},
   "outputs": [],
   "source": [
    "y = x**2"
   ]
  },
  {
   "cell_type": "code",
   "execution_count": 6,
   "id": "2d3e2291-a3c1-460b-97c9-4a82d7789647",
   "metadata": {},
   "outputs": [
    {
     "data": {
      "text/plain": [
       "array([4.00000000e+00, 3.24000000e+00, 2.56000000e+00, 1.96000000e+00,\n",
       "       1.44000000e+00, 1.00000000e+00, 6.40000000e-01, 3.60000000e-01,\n",
       "       1.60000000e-01, 4.00000000e-02, 1.97215226e-31, 4.00000000e-02,\n",
       "       1.60000000e-01, 3.60000000e-01, 6.40000000e-01, 1.00000000e+00,\n",
       "       1.44000000e+00, 1.96000000e+00, 2.56000000e+00, 3.24000000e+00])"
      ]
     },
     "execution_count": 6,
     "metadata": {},
     "output_type": "execute_result"
    }
   ],
   "source": [
    "y"
   ]
  },
  {
   "cell_type": "code",
   "execution_count": 7,
   "id": "492ae142-1205-4b5e-9ff2-529bce88d289",
   "metadata": {},
   "outputs": [
    {
     "data": {
      "text/plain": [
       "numpy.ndarray"
      ]
     },
     "execution_count": 7,
     "metadata": {},
     "output_type": "execute_result"
    }
   ],
   "source": [
    "type(y)"
   ]
  }
 ],
 "metadata": {
  "kernelspec": {
   "display_name": "Python 3 (ipykernel)",
   "language": "python",
   "name": "python3"
  },
  "language_info": {
   "codemirror_mode": {
    "name": "ipython",
    "version": 3
   },
   "file_extension": ".py",
   "mimetype": "text/x-python",
   "name": "python",
   "nbconvert_exporter": "python",
   "pygments_lexer": "ipython3",
   "version": "3.10.0"
  }
 },
 "nbformat": 4,
 "nbformat_minor": 5
}
