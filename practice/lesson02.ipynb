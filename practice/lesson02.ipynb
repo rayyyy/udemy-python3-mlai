{
 "cells": [
  {
   "cell_type": "code",
   "execution_count": 5,
   "id": "f1cc7c81-7c0d-4079-a60a-b72516d56a44",
   "metadata": {},
   "outputs": [],
   "source": [
    "%load_ext lab_black"
   ]
  },
  {
   "cell_type": "markdown",
   "id": "82a68fc8-dda5-4c72-9da5-2fe249d046d0",
   "metadata": {},
   "source": [
    "# スライス（添字）の応用"
   ]
  },
  {
   "cell_type": "code",
   "execution_count": 1,
   "id": "7e1f1b05-5a08-436e-b08f-77c7adfe3e8b",
   "metadata": {},
   "outputs": [],
   "source": [
    "import numpy as np"
   ]
  },
  {
   "cell_type": "code",
   "execution_count": 7,
   "id": "4efae472-3363-4748-82df-71a82323a0ff",
   "metadata": {},
   "outputs": [
    {
     "data": {
      "text/plain": [
       "array([ 0,  2,  4,  6,  8, 10, 12, 14, 16, 18, 20, 22, 24, 26, 28, 30, 32,\n",
       "       34, 36, 38])"
      ]
     },
     "execution_count": 7,
     "metadata": {},
     "output_type": "execute_result"
    }
   ],
   "source": [
    "a = np.arange(20) * 2\n",
    "a"
   ]
  },
  {
   "cell_type": "code",
   "execution_count": 9,
   "id": "ff973468-1bd6-4a31-9f8b-181598ec4a91",
   "metadata": {},
   "outputs": [
    {
     "name": "stdout",
     "output_type": "stream",
     "text": [
      "[ 2  4  6  8 10]\n"
     ]
    }
   ],
   "source": [
    "print(a[1:6])"
   ]
  },
  {
   "cell_type": "markdown",
   "id": "502b8d7f-99a4-4f26-8ede-de7831d21631",
   "metadata": {},
   "source": [
    "# 配列形状の変形"
   ]
  },
  {
   "cell_type": "code",
   "execution_count": 10,
   "id": "12556090-43d9-4eff-b96f-dd1b96384c4a",
   "metadata": {},
   "outputs": [
    {
     "data": {
      "text/plain": [
       "array([ 0,  1,  2,  3,  4,  5,  6,  7,  8,  9, 10, 11, 12, 13, 14, 15, 16,\n",
       "       17, 18, 19, 20, 21, 22, 23, 24, 25, 26, 27, 28, 29])"
      ]
     },
     "execution_count": 10,
     "metadata": {},
     "output_type": "execute_result"
    }
   ],
   "source": [
    "a = np.arange(30)\n",
    "a"
   ]
  },
  {
   "cell_type": "code",
   "execution_count": 11,
   "id": "b98c0fc3-ffea-4074-86e9-26b9863aadd0",
   "metadata": {},
   "outputs": [
    {
     "data": {
      "text/plain": [
       "array([[ 0,  1,  2,  3,  4,  5],\n",
       "       [ 6,  7,  8,  9, 10, 11],\n",
       "       [12, 13, 14, 15, 16, 17],\n",
       "       [18, 19, 20, 21, 22, 23],\n",
       "       [24, 25, 26, 27, 28, 29]])"
      ]
     },
     "execution_count": 11,
     "metadata": {},
     "output_type": "execute_result"
    }
   ],
   "source": [
    "a2 = a.reshape((5, 6))\n",
    "a2"
   ]
  },
  {
   "cell_type": "code",
   "execution_count": 13,
   "id": "47add1db-74cd-418d-ae32-b967717d3308",
   "metadata": {},
   "outputs": [
    {
     "data": {
      "text/plain": [
       "array([[[ 0,  1,  2,  3,  4],\n",
       "        [ 5,  6,  7,  8,  9],\n",
       "        [10, 11, 12, 13, 14]],\n",
       "\n",
       "       [[15, 16, 17, 18, 19],\n",
       "        [20, 21, 22, 23, 24],\n",
       "        [25, 26, 27, 28, 29]]])"
      ]
     },
     "execution_count": 13,
     "metadata": {},
     "output_type": "execute_result"
    }
   ],
   "source": [
    "a3 = a.reshape((2, 3, 5))\n",
    "a3"
   ]
  },
  {
   "cell_type": "code",
   "execution_count": 14,
   "id": "e6881ddc-86c3-425f-8466-1ac4e486f96e",
   "metadata": {},
   "outputs": [
    {
     "data": {
      "text/plain": [
       "array([ 0,  1,  2,  3,  4,  5,  6,  7,  8,  9, 10, 11, 12, 13, 14, 15, 16,\n",
       "       17, 18, 19, 20, 21, 22, 23, 24, 25, 26, 27, 28, 29])"
      ]
     },
     "execution_count": 14,
     "metadata": {},
     "output_type": "execute_result"
    }
   ],
   "source": [
    "a3.flatten()"
   ]
  },
  {
   "cell_type": "code",
   "execution_count": 17,
   "id": "fd906627-3304-4df3-8717-20143a0f5df8",
   "metadata": {},
   "outputs": [
    {
     "data": {
      "text/plain": [
       "array([ 0,  1,  2,  3,  4,  5,  6,  7,  8,  9, 10, 11, 12, 13, 14, 15, 16,\n",
       "       17, 18, 19, 20, 21, 22, 23, 24, 25, 26, 27, 28, 29])"
      ]
     },
     "execution_count": 17,
     "metadata": {},
     "output_type": "execute_result"
    }
   ],
   "source": [
    "a3.ravel()  # 多次元のときはflattenより早そう"
   ]
  },
  {
   "cell_type": "markdown",
   "id": "bcbad987-b999-4748-aeb8-dae8e877a37e",
   "metadata": {},
   "source": [
    "# 配列の転置"
   ]
  },
  {
   "cell_type": "code",
   "execution_count": 19,
   "id": "9ab183ff-4a6d-475d-8d68-30100798d223",
   "metadata": {},
   "outputs": [
    {
     "data": {
      "text/plain": [
       "array([[1, 2, 3],\n",
       "       [4, 5, 6]])"
      ]
     },
     "execution_count": 19,
     "metadata": {},
     "output_type": "execute_result"
    }
   ],
   "source": [
    "a = np.array([[1, 2, 3], [4, 5, 6]])\n",
    "a"
   ]
  },
  {
   "cell_type": "code",
   "execution_count": 20,
   "id": "24aebf97-650c-4588-8910-40454d312a8d",
   "metadata": {},
   "outputs": [
    {
     "data": {
      "text/plain": [
       "array([[1, 4],\n",
       "       [2, 5],\n",
       "       [3, 6]])"
      ]
     },
     "execution_count": 20,
     "metadata": {},
     "output_type": "execute_result"
    }
   ],
   "source": [
    "a.T"
   ]
  },
  {
   "cell_type": "markdown",
   "id": "396ee701-cd14-4355-9ccb-9580569a9ffa",
   "metadata": {},
   "source": [
    "# スライスにリストや配列を与える"
   ]
  },
  {
   "cell_type": "code",
   "execution_count": 21,
   "id": "989c44a2-42a3-4910-9132-2d46afa02ac5",
   "metadata": {},
   "outputs": [
    {
     "data": {
      "text/plain": [
       "array([ 0, 10, 20, 30, 40, 50, 60, 70, 80, 90])"
      ]
     },
     "execution_count": 21,
     "metadata": {},
     "output_type": "execute_result"
    }
   ],
   "source": [
    "a = np.arange(10) * 10\n",
    "a"
   ]
  },
  {
   "cell_type": "code",
   "execution_count": 22,
   "id": "58872891-0164-4f54-beea-ff2c9ffc4aa9",
   "metadata": {},
   "outputs": [
    {
     "data": {
      "text/plain": [
       "array([10, 30, 50])"
      ]
     },
     "execution_count": 22,
     "metadata": {},
     "output_type": "execute_result"
    }
   ],
   "source": [
    "a2 = a[[1, 3, 5]]\n",
    "a2"
   ]
  },
  {
   "cell_type": "code",
   "execution_count": 23,
   "id": "6bdaf950-c1a0-4cc1-8b86-97993f361ce7",
   "metadata": {},
   "outputs": [
    {
     "data": {
      "text/plain": [
       "array([ 0,  7, 20,  8, 40,  9, 60, 70, 80, 90])"
      ]
     },
     "execution_count": 23,
     "metadata": {},
     "output_type": "execute_result"
    }
   ],
   "source": [
    "a[[1, 3, 5]] = [7, 8, 9]\n",
    "a"
   ]
  },
  {
   "cell_type": "markdown",
   "id": "d6c28808-7718-4e9d-8472-a71aa5587af5",
   "metadata": {},
   "source": [
    "# 行、列の反転"
   ]
  },
  {
   "cell_type": "code",
   "execution_count": 24,
   "id": "84a8229b-5cb4-4b49-8cef-00fbdeb9994a",
   "metadata": {},
   "outputs": [
    {
     "data": {
      "text/plain": [
       "array([0, 1, 2, 3, 4, 5, 6, 7, 8, 9])"
      ]
     },
     "execution_count": 24,
     "metadata": {},
     "output_type": "execute_result"
    }
   ],
   "source": [
    "a = np.arange(10)\n",
    "a"
   ]
  },
  {
   "cell_type": "code",
   "execution_count": 25,
   "id": "0c37e201-efbe-499f-bd67-12ea4a0ae39b",
   "metadata": {},
   "outputs": [
    {
     "data": {
      "text/plain": [
       "array([9, 8, 7, 6, 5, 4, 3, 2, 1, 0])"
      ]
     },
     "execution_count": 25,
     "metadata": {},
     "output_type": "execute_result"
    }
   ],
   "source": [
    "np.flip(a)"
   ]
  },
  {
   "cell_type": "code",
   "execution_count": 26,
   "id": "7b05bb0a-d5d3-4b76-9ca4-8f61f738622a",
   "metadata": {},
   "outputs": [
    {
     "data": {
      "text/plain": [
       "array([[1, 2, 3],\n",
       "       [4, 5, 6],\n",
       "       [7, 8, 9]])"
      ]
     },
     "execution_count": 26,
     "metadata": {},
     "output_type": "execute_result"
    }
   ],
   "source": [
    "a = np.array([[1, 2, 3], [4, 5, 6], [7, 8, 9]])\n",
    "a"
   ]
  },
  {
   "cell_type": "code",
   "execution_count": 27,
   "id": "99a6ff56-bf42-41f2-b258-ff70f4bfa504",
   "metadata": {},
   "outputs": [
    {
     "data": {
      "text/plain": [
       "array([[9, 8, 7],\n",
       "       [6, 5, 4],\n",
       "       [3, 2, 1]])"
      ]
     },
     "execution_count": 27,
     "metadata": {},
     "output_type": "execute_result"
    }
   ],
   "source": [
    "np.flip(a)"
   ]
  },
  {
   "cell_type": "code",
   "execution_count": 28,
   "id": "fc3ed264-8b64-496e-9015-3ac7314669ef",
   "metadata": {},
   "outputs": [
    {
     "name": "stdout",
     "output_type": "stream",
     "text": [
      "[[7 8 9]\n",
      " [4 5 6]\n",
      " [1 2 3]]\n"
     ]
    }
   ],
   "source": [
    "print(np.flip(a, axis=0)) # axisはどれを軸に反転させるか"
   ]
  },
  {
   "cell_type": "code",
   "execution_count": 29,
   "id": "a9e85f46-f723-46c4-8fbf-6845b5deab57",
   "metadata": {},
   "outputs": [
    {
     "name": "stdout",
     "output_type": "stream",
     "text": [
      "[[3 2 1]\n",
      " [6 5 4]\n",
      " [9 8 7]]\n"
     ]
    }
   ],
   "source": [
    "print(np.flip(a, axis=1))"
   ]
  },
  {
   "cell_type": "markdown",
   "id": "86107525-5c8e-4e2d-9f1a-1c790f3a7037",
   "metadata": {},
   "source": [
    "# 行、列の回転"
   ]
  },
  {
   "cell_type": "code",
   "execution_count": 32,
   "id": "daa758da-88a1-48f3-b631-ce8ecce294f8",
   "metadata": {},
   "outputs": [
    {
     "data": {
      "text/plain": [
       "array([[9, 1, 2],\n",
       "       [3, 4, 5],\n",
       "       [6, 7, 8]])"
      ]
     },
     "execution_count": 32,
     "metadata": {},
     "output_type": "execute_result"
    }
   ],
   "source": [
    "np.roll(a, shift=1)"
   ]
  },
  {
   "cell_type": "code",
   "execution_count": 33,
   "id": "83ef8a30-34df-47a1-8081-219bbb07b889",
   "metadata": {},
   "outputs": [
    {
     "data": {
      "text/plain": [
       "array([[7, 8, 9],\n",
       "       [1, 2, 3],\n",
       "       [4, 5, 6]])"
      ]
     },
     "execution_count": 33,
     "metadata": {},
     "output_type": "execute_result"
    }
   ],
   "source": [
    "np.roll(a, shift=1, axis=0)"
   ]
  },
  {
   "cell_type": "code",
   "execution_count": 34,
   "id": "cfe1675f-262b-44a4-bb46-634281439078",
   "metadata": {},
   "outputs": [
    {
     "data": {
      "text/plain": [
       "array([[3, 1, 2],\n",
       "       [6, 4, 5],\n",
       "       [9, 7, 8]])"
      ]
     },
     "execution_count": 34,
     "metadata": {},
     "output_type": "execute_result"
    }
   ],
   "source": [
    "np.roll(a, shift=1, axis=1)"
   ]
  },
  {
   "cell_type": "markdown",
   "id": "c48df18c-cef5-4a7a-b899-49c5c4b86081",
   "metadata": {},
   "source": [
    "# 配列の連結"
   ]
  },
  {
   "cell_type": "code",
   "execution_count": 35,
   "id": "ae950048-020e-4e7d-89ba-0dba97b6ea09",
   "metadata": {},
   "outputs": [
    {
     "name": "stdout",
     "output_type": "stream",
     "text": [
      "[0 1 2]\n",
      "[3 4 5]\n"
     ]
    }
   ],
   "source": [
    "a1 = np.array([0, 1, 2])\n",
    "a2 = np.array([3, 4, 5])\n",
    "print(a1)\n",
    "print(a2)"
   ]
  },
  {
   "cell_type": "code",
   "execution_count": 37,
   "id": "50b341db-283d-4db8-a635-a4263f4811d3",
   "metadata": {},
   "outputs": [
    {
     "data": {
      "text/plain": [
       "array([0, 1, 2, 3, 4, 5])"
      ]
     },
     "execution_count": 37,
     "metadata": {},
     "output_type": "execute_result"
    }
   ],
   "source": [
    "a = np.append(a1, a2)\n",
    "a"
   ]
  },
  {
   "cell_type": "code",
   "execution_count": 38,
   "id": "dbb3d479-6890-4b69-bb48-f1d485f6fecd",
   "metadata": {},
   "outputs": [
    {
     "name": "stdout",
     "output_type": "stream",
     "text": [
      "[[0. 0. 0. 0.]\n",
      " [0. 0. 0. 0.]]\n",
      "[[1. 1. 1. 1.]\n",
      " [1. 1. 1. 1.]]\n"
     ]
    }
   ],
   "source": [
    "a1 = np.zeros((2, 4))\n",
    "a2 = np.ones((2, 4))\n",
    "print(a1)\n",
    "print(a2)"
   ]
  },
  {
   "cell_type": "code",
   "execution_count": 39,
   "id": "23f4a2de-b7b8-4ce5-96a9-467ea66742a2",
   "metadata": {},
   "outputs": [
    {
     "data": {
      "text/plain": [
       "array([[0., 0., 0., 0.],\n",
       "       [0., 0., 0., 0.],\n",
       "       [1., 1., 1., 1.],\n",
       "       [1., 1., 1., 1.]])"
      ]
     },
     "execution_count": 39,
     "metadata": {},
     "output_type": "execute_result"
    }
   ],
   "source": [
    "a = np.append(a1, a2, axis=0)\n",
    "a"
   ]
  },
  {
   "cell_type": "code",
   "execution_count": 41,
   "id": "01552508-3462-4c3c-bf78-adf9dcb20a80",
   "metadata": {},
   "outputs": [
    {
     "data": {
      "text/plain": [
       "array([[0., 0., 0., 0., 1., 1., 1., 1.],\n",
       "       [0., 0., 0., 0., 1., 1., 1., 1.]])"
      ]
     },
     "execution_count": 41,
     "metadata": {},
     "output_type": "execute_result"
    }
   ],
   "source": [
    "a = np.append(a1, a2, axis=1)\n",
    "a"
   ]
  },
  {
   "cell_type": "code",
   "execution_count": 44,
   "id": "a9723265-b670-4ed6-b53b-09a1f82a4a2d",
   "metadata": {},
   "outputs": [
    {
     "name": "stdout",
     "output_type": "stream",
     "text": [
      "[[1. 1.]\n",
      " [1. 1.]]\n",
      "[[2. 2.]\n",
      " [2. 2.]]\n",
      "[[3. 3.]\n",
      " [3. 3.]]\n"
     ]
    }
   ],
   "source": [
    "a1 = np.zeros((2, 2))\n",
    "a1.fill(1)\n",
    "a2 = np.zeros((2, 2))\n",
    "a2.fill(2)\n",
    "a3 = np.zeros((2, 2))\n",
    "a3.fill(3)\n",
    "print(a1)\n",
    "print(a2)\n",
    "print(a3)"
   ]
  },
  {
   "cell_type": "code",
   "execution_count": 46,
   "id": "73688fe1-5001-4694-bb34-0f97cb417c45",
   "metadata": {},
   "outputs": [
    {
     "data": {
      "text/plain": [
       "array([[1., 1.],\n",
       "       [1., 1.],\n",
       "       [2., 2.],\n",
       "       [2., 2.],\n",
       "       [3., 3.],\n",
       "       [3., 3.]])"
      ]
     },
     "execution_count": 46,
     "metadata": {},
     "output_type": "execute_result"
    }
   ],
   "source": [
    "a = np.concatenate((a1, a2, a3), axis=0) ## 3つ以上の配列の連結\n",
    "a"
   ]
  },
  {
   "cell_type": "code",
   "execution_count": 47,
   "id": "a6ffe05b-5535-4c84-a290-dad72e0d8e17",
   "metadata": {},
   "outputs": [
    {
     "data": {
      "text/plain": [
       "array([[1., 1., 2., 2., 3., 3.],\n",
       "       [1., 1., 2., 2., 3., 3.]])"
      ]
     },
     "execution_count": 47,
     "metadata": {},
     "output_type": "execute_result"
    }
   ],
   "source": [
    "a = np.concatenate((a1, a2, a3), axis=1)\n",
    "a"
   ]
  },
  {
   "cell_type": "code",
   "execution_count": 48,
   "id": "4eae681f-c1f2-4fdb-a5e6-e9e528b3c9b9",
   "metadata": {},
   "outputs": [
    {
     "data": {
      "text/plain": [
       "array([[1., 1.],\n",
       "       [1., 1.],\n",
       "       [2., 2.],\n",
       "       [2., 2.],\n",
       "       [3., 3.],\n",
       "       [3., 3.]])"
      ]
     },
     "execution_count": 48,
     "metadata": {},
     "output_type": "execute_result"
    }
   ],
   "source": [
    "a = np.vstack((a1, a2, a3))\n",
    "a"
   ]
  },
  {
   "cell_type": "code",
   "execution_count": 49,
   "id": "decaf946-8974-47b8-96c8-61bbf7696cdb",
   "metadata": {},
   "outputs": [
    {
     "data": {
      "text/plain": [
       "array([[1., 1., 2., 2., 3., 3.],\n",
       "       [1., 1., 2., 2., 3., 3.]])"
      ]
     },
     "execution_count": 49,
     "metadata": {},
     "output_type": "execute_result"
    }
   ],
   "source": [
    "a = np.hstack((a1, a2, a3))\n",
    "a"
   ]
  },
  {
   "cell_type": "markdown",
   "id": "7bbfdf3c-6725-41cc-be69-7217e0c4c483",
   "metadata": {},
   "source": [
    "# 配列の繰り返し"
   ]
  },
  {
   "cell_type": "code",
   "execution_count": 50,
   "id": "06b38b8d-7deb-4252-b000-e6c2a3bc4059",
   "metadata": {},
   "outputs": [
    {
     "data": {
      "text/plain": [
       "array([[1, 2],\n",
       "       [3, 4]])"
      ]
     },
     "execution_count": 50,
     "metadata": {},
     "output_type": "execute_result"
    }
   ],
   "source": [
    "a = np.array([[1, 2], [3, 4]])\n",
    "a"
   ]
  },
  {
   "cell_type": "code",
   "execution_count": 51,
   "id": "58dc8440-1012-4fcf-a10f-54c17e27e2a7",
   "metadata": {},
   "outputs": [
    {
     "data": {
      "text/plain": [
       "array([[1, 2],\n",
       "       [3, 4],\n",
       "       [1, 2],\n",
       "       [3, 4],\n",
       "       [1, 2],\n",
       "       [3, 4]])"
      ]
     },
     "execution_count": 51,
     "metadata": {},
     "output_type": "execute_result"
    }
   ],
   "source": [
    "a2 = np.tile(a, (3, 1))\n",
    "a2"
   ]
  },
  {
   "cell_type": "code",
   "execution_count": 52,
   "id": "b1322360-1eb1-4ffa-876a-99fe536df2a9",
   "metadata": {},
   "outputs": [
    {
     "data": {
      "text/plain": [
       "array([[1, 2, 1, 2, 1, 2],\n",
       "       [3, 4, 3, 4, 3, 4]])"
      ]
     },
     "execution_count": 52,
     "metadata": {},
     "output_type": "execute_result"
    }
   ],
   "source": [
    "a2 = np.tile(a, (1, 3))\n",
    "a2"
   ]
  },
  {
   "cell_type": "markdown",
   "id": "ccca3d5a-39c0-484a-ad58-5f4cfafaf0db",
   "metadata": {},
   "source": [
    "# 要素の挿入"
   ]
  },
  {
   "cell_type": "code",
   "execution_count": 53,
   "id": "1d66dc8f-a1d2-44de-9f74-6b5dd96e33be",
   "metadata": {},
   "outputs": [
    {
     "name": "stdout",
     "output_type": "stream",
     "text": [
      "[0 1 2 3 4 5]\n",
      "[10 20 30]\n"
     ]
    }
   ],
   "source": [
    "a = np.array([0, 1, 2, 3, 4, 5])\n",
    "ins = np.array([10, 20, 30])\n",
    "print(a)\n",
    "print(ins)"
   ]
  },
  {
   "cell_type": "code",
   "execution_count": 55,
   "id": "a5cd351a-96df-48a8-ba45-ffbe4046d0f4",
   "metadata": {},
   "outputs": [
    {
     "data": {
      "text/plain": [
       "array([ 0,  1,  2, 10, 20, 30,  3,  4,  5])"
      ]
     },
     "execution_count": 55,
     "metadata": {},
     "output_type": "execute_result"
    }
   ],
   "source": [
    "a2 = np.insert(a, 3, ins)\n",
    "a2"
   ]
  },
  {
   "cell_type": "code",
   "execution_count": 56,
   "id": "2e63c392-b113-49c3-9831-d554ce619b9e",
   "metadata": {},
   "outputs": [
    {
     "data": {
      "text/plain": [
       "array([ 0, 99,  1,  2,  3,  4,  5])"
      ]
     },
     "execution_count": 56,
     "metadata": {},
     "output_type": "execute_result"
    }
   ],
   "source": [
    "a2 = np.insert(a, 1, 99)\n",
    "a2"
   ]
  },
  {
   "cell_type": "code",
   "execution_count": 58,
   "id": "ce2f5d8e-1da2-41f8-8391-4cf0cf6ee5c4",
   "metadata": {},
   "outputs": [
    {
     "name": "stdout",
     "output_type": "stream",
     "text": [
      "[[1 2 3]\n",
      " [4 5 6]\n",
      " [7 8 9]]\n",
      "[91 92 93]\n"
     ]
    }
   ],
   "source": [
    "a = np.array([[1, 2, 3], [4, 5, 6], [7, 8, 9]])\n",
    "ins = np.array([91, 92, 93])\n",
    "print(a)\n",
    "print(ins)"
   ]
  },
  {
   "cell_type": "code",
   "execution_count": 63,
   "id": "1dc5f741-3dd7-4ea6-bd7a-93c26aecf9ce",
   "metadata": {},
   "outputs": [
    {
     "name": "stdout",
     "output_type": "stream",
     "text": [
      "[[ 1  2  3]\n",
      " [ 4  5  6]\n",
      " [91 92 93]\n",
      " [ 7  8  9]]\n"
     ]
    }
   ],
   "source": [
    "a2 = np.insert(a, 2, ins, axis=0)\n",
    "print(a2)"
   ]
  },
  {
   "cell_type": "code",
   "execution_count": 64,
   "id": "841b0c37-763e-4bb1-b057-cc43220cfe80",
   "metadata": {},
   "outputs": [
    {
     "name": "stdout",
     "output_type": "stream",
     "text": [
      "[[ 1  2 91  3]\n",
      " [ 4  5 92  6]\n",
      " [ 7  8 93  9]]\n"
     ]
    }
   ],
   "source": [
    "a2 = np.insert(a, 2, ins, axis=1)\n",
    "print(a2)"
   ]
  },
  {
   "cell_type": "markdown",
   "id": "6de7a99d-4d39-44f7-bd8f-fb3c41d20e6f",
   "metadata": {},
   "source": [
    "# 要素の削除"
   ]
  },
  {
   "cell_type": "code",
   "execution_count": 65,
   "id": "2dd23d77-1a30-4d40-af5d-e52225010ca2",
   "metadata": {},
   "outputs": [
    {
     "name": "stdout",
     "output_type": "stream",
     "text": [
      "[0 1 2 3 4 5]\n"
     ]
    }
   ],
   "source": [
    "a = np.array([0, 1, 2, 3, 4, 5])\n",
    "print(a)"
   ]
  },
  {
   "cell_type": "code",
   "execution_count": 67,
   "id": "2a251a3f-25ab-4fe1-98a1-fc49a3f37759",
   "metadata": {},
   "outputs": [
    {
     "data": {
      "text/plain": [
       "array([0, 1, 3, 4, 5])"
      ]
     },
     "execution_count": 67,
     "metadata": {},
     "output_type": "execute_result"
    }
   ],
   "source": [
    "a2 = np.delete(a, 2)\n",
    "a2"
   ]
  },
  {
   "cell_type": "code",
   "execution_count": 68,
   "id": "52e22527-fea2-4e38-9e34-dc9a72f8ef87",
   "metadata": {},
   "outputs": [
    {
     "name": "stdout",
     "output_type": "stream",
     "text": [
      "[[1 2 3]\n",
      " [4 5 6]\n",
      " [7 8 9]]\n"
     ]
    }
   ],
   "source": [
    "a = np.array([[1, 2, 3], [4, 5, 6], [7, 8, 9]])\n",
    "print(a)"
   ]
  },
  {
   "cell_type": "code",
   "execution_count": 69,
   "id": "a8643f33-9b6d-4e6e-bf0f-ef8c163bba94",
   "metadata": {},
   "outputs": [
    {
     "data": {
      "text/plain": [
       "array([[1, 2, 3],\n",
       "       [7, 8, 9]])"
      ]
     },
     "execution_count": 69,
     "metadata": {},
     "output_type": "execute_result"
    }
   ],
   "source": [
    "a2 = np.delete(a, 1, axis=0)\n",
    "a2"
   ]
  },
  {
   "cell_type": "code",
   "execution_count": 70,
   "id": "67dd4b28-c084-4f15-9d6b-4d420341e7f1",
   "metadata": {},
   "outputs": [
    {
     "data": {
      "text/plain": [
       "array([[1, 3],\n",
       "       [4, 6],\n",
       "       [7, 9]])"
      ]
     },
     "execution_count": 70,
     "metadata": {},
     "output_type": "execute_result"
    }
   ],
   "source": [
    "a2 = np.delete(a, 1, axis=1)\n",
    "a2"
   ]
  },
  {
   "cell_type": "markdown",
   "id": "53f8c86b-4cee-4b4b-b69e-fe7e6e70f46c",
   "metadata": {},
   "source": [
    "# 要素の抽出"
   ]
  },
  {
   "cell_type": "markdown",
   "id": "e9e36005-4812-492c-a8e9-52f84973b980",
   "metadata": {},
   "source": [
    "## 予備演習"
   ]
  },
  {
   "cell_type": "code",
   "execution_count": 71,
   "id": "9b161724-c179-402a-b90d-f261e1440f95",
   "metadata": {},
   "outputs": [
    {
     "data": {
      "text/plain": [
       "array([0, 1, 2, 3])"
      ]
     },
     "execution_count": 71,
     "metadata": {},
     "output_type": "execute_result"
    }
   ],
   "source": [
    "a = np.arange(4)\n",
    "a"
   ]
  },
  {
   "cell_type": "code",
   "execution_count": 73,
   "id": "828bcc03-8aed-4908-a26e-dbdc858183b8",
   "metadata": {},
   "outputs": [
    {
     "data": {
      "text/plain": [
       "array([1])"
      ]
     },
     "execution_count": 73,
     "metadata": {},
     "output_type": "execute_result"
    }
   ],
   "source": [
    "msk = [False, True, False, False]\n",
    "a2 = a[msk]\n",
    "a2"
   ]
  },
  {
   "cell_type": "code",
   "execution_count": 74,
   "id": "dbb14828-f69a-42c1-b4f4-789a01a02894",
   "metadata": {},
   "outputs": [
    {
     "data": {
      "text/plain": [
       "array([0, 1, 2, 3, 4, 5, 6, 7, 8, 9])"
      ]
     },
     "execution_count": 74,
     "metadata": {},
     "output_type": "execute_result"
    }
   ],
   "source": [
    "a = np.arange(10)\n",
    "a"
   ]
  },
  {
   "cell_type": "code",
   "execution_count": 76,
   "id": "a273e614-c974-4329-bd96-c8dfeadfaa59",
   "metadata": {},
   "outputs": [
    {
     "data": {
      "text/plain": [
       "array([ True, False,  True, False,  True, False,  True, False,  True,\n",
       "       False])"
      ]
     },
     "execution_count": 76,
     "metadata": {},
     "output_type": "execute_result"
    }
   ],
   "source": [
    "m = a % 2 == 0\n",
    "m"
   ]
  },
  {
   "cell_type": "markdown",
   "id": "6aaf00e4-48a3-46ef-baf9-6e319b9e6072",
   "metadata": {},
   "source": [
    "## 条件式による要素の抽出"
   ]
  },
  {
   "cell_type": "code",
   "execution_count": 77,
   "id": "2f9a6779-9f11-4ce8-b96c-3a393ccddb30",
   "metadata": {},
   "outputs": [
    {
     "data": {
      "text/plain": [
       "array([0, 2, 4, 6, 8])"
      ]
     },
     "execution_count": 77,
     "metadata": {},
     "output_type": "execute_result"
    }
   ],
   "source": [
    "a2 = a[a % 2 == 0]\n",
    "a2"
   ]
  },
  {
   "cell_type": "code",
   "execution_count": 78,
   "id": "f752fa0e-a45c-45d0-83da-61e87ec6a274",
   "metadata": {},
   "outputs": [
    {
     "data": {
      "text/plain": [
       "array([6, 7, 8, 9])"
      ]
     },
     "execution_count": 78,
     "metadata": {},
     "output_type": "execute_result"
    }
   ],
   "source": [
    "a2 = a[a > 5]\n",
    "a2"
   ]
  },
  {
   "cell_type": "markdown",
   "id": "3f698337-08f9-46ef-a811-21d873401d7f",
   "metadata": {},
   "source": [
    "## whereによる狙い撃ち"
   ]
  },
  {
   "cell_type": "code",
   "execution_count": 79,
   "id": "f04cf3b5-f88c-4f1d-aa31-6afe01c6d3a6",
   "metadata": {},
   "outputs": [
    {
     "data": {
      "text/plain": [
       "array(['0', '1', '2', '3', '4', '5', 'biq', 'biq', 'biq', 'biq'],\n",
       "      dtype='<U21')"
      ]
     },
     "execution_count": 79,
     "metadata": {},
     "output_type": "execute_result"
    }
   ],
   "source": [
    "a2 = np.where(a > 5, \"biq\", a)\n",
    "a2"
   ]
  },
  {
   "cell_type": "code",
   "execution_count": 81,
   "id": "96a64e97-7033-406b-bebf-3c8f16454644",
   "metadata": {},
   "outputs": [
    {
     "data": {
      "text/plain": [
       "array(['偶数', '奇数', '偶数', '奇数', '偶数', '奇数', '偶数', '奇数', '偶数', '奇数'],\n",
       "      dtype='<U2')"
      ]
     },
     "execution_count": 81,
     "metadata": {},
     "output_type": "execute_result"
    }
   ],
   "source": [
    "a2 = np.where(a % 2 == 0, \"偶数\", \"奇数\")\n",
    "a2"
   ]
  },
  {
   "cell_type": "markdown",
   "id": "1b6ae1c3-9feb-4aa6-aaeb-e4278d9961df",
   "metadata": {},
   "source": [
    "## 最大値、最小値"
   ]
  },
  {
   "cell_type": "code",
   "execution_count": 83,
   "id": "226f5e00-6760-4926-9554-6557dfb16f69",
   "metadata": {},
   "outputs": [
    {
     "data": {
      "text/plain": [
       "array([1, 2, 3, 4, 3, 2, 1])"
      ]
     },
     "execution_count": 83,
     "metadata": {},
     "output_type": "execute_result"
    }
   ],
   "source": [
    "a = np.array([1, 2, 3, 4, 3, 2, 1])\n",
    "a"
   ]
  },
  {
   "cell_type": "code",
   "execution_count": 84,
   "id": "f6aa6f38-b5f1-40be-859d-4fc4522af4de",
   "metadata": {},
   "outputs": [
    {
     "data": {
      "text/plain": [
       "4"
      ]
     },
     "execution_count": 84,
     "metadata": {},
     "output_type": "execute_result"
    }
   ],
   "source": [
    "a.max()"
   ]
  },
  {
   "cell_type": "code",
   "execution_count": 85,
   "id": "f978ea22-5cc1-4ba5-9b3d-075c77ba5235",
   "metadata": {},
   "outputs": [
    {
     "data": {
      "text/plain": [
       "1"
      ]
     },
     "execution_count": 85,
     "metadata": {},
     "output_type": "execute_result"
    }
   ],
   "source": [
    "a.min()"
   ]
  }
 ],
 "metadata": {
  "kernelspec": {
   "display_name": "Python 3 (ipykernel)",
   "language": "python",
   "name": "python3"
  },
  "language_info": {
   "codemirror_mode": {
    "name": "ipython",
    "version": 3
   },
   "file_extension": ".py",
   "mimetype": "text/x-python",
   "name": "python",
   "nbconvert_exporter": "python",
   "pygments_lexer": "ipython3",
   "version": "3.10.0"
  }
 },
 "nbformat": 4,
 "nbformat_minor": 5
}
