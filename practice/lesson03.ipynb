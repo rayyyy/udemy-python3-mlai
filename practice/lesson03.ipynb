{
 "cells": [
  {
   "cell_type": "code",
   "execution_count": 1,
   "id": "1f557baa-06aa-40b8-8416-9b4eb8a8cb96",
   "metadata": {},
   "outputs": [],
   "source": [
    "%load_ext lab_black"
   ]
  },
  {
   "cell_type": "code",
   "execution_count": 2,
   "id": "cb49c7e0-f0d8-4d52-8782-3a9ff138ecd3",
   "metadata": {},
   "outputs": [],
   "source": [
    "import numpy as np"
   ]
  },
  {
   "cell_type": "markdown",
   "id": "0a06ecc5-7dca-487d-a63f-d51fdce27bf0",
   "metadata": {},
   "source": [
    "# zipオブジェクト"
   ]
  },
  {
   "cell_type": "code",
   "execution_count": 3,
   "id": "cb4f7ee7-2243-4a0f-8519-db434145544a",
   "metadata": {},
   "outputs": [
    {
     "data": {
      "text/plain": [
       "<zip at 0x7ff1a047b880>"
      ]
     },
     "execution_count": 3,
     "metadata": {},
     "output_type": "execute_result"
    }
   ],
   "source": [
    "a1 = [1, 3, 5, 7, 9]\n",
    "a2 = [2, 4, 6, 8, 10]\n",
    "z = zip(a1, a2)\n",
    "z"
   ]
  },
  {
   "cell_type": "code",
   "execution_count": 4,
   "id": "6daae9ea-c83c-446a-9771-168857113c32",
   "metadata": {},
   "outputs": [
    {
     "data": {
      "text/plain": [
       "[(1, 2), (3, 4), (5, 6), (7, 8), (9, 10)]"
      ]
     },
     "execution_count": 4,
     "metadata": {},
     "output_type": "execute_result"
    }
   ],
   "source": [
    "list(z)"
   ]
  },
  {
   "cell_type": "code",
   "execution_count": 5,
   "id": "251d052b-eb53-45da-af07-0da20df28a7a",
   "metadata": {},
   "outputs": [
    {
     "data": {
      "text/plain": [
       "[]"
      ]
     },
     "execution_count": 5,
     "metadata": {},
     "output_type": "execute_result"
    }
   ],
   "source": [
    "list(z)"
   ]
  },
  {
   "cell_type": "code",
   "execution_count": 6,
   "id": "7dd05385-e64f-4862-8ded-bdb8881e8afd",
   "metadata": {},
   "outputs": [
    {
     "data": {
      "text/plain": [
       "array([[ 1,  2],\n",
       "       [ 3,  4],\n",
       "       [ 5,  6],\n",
       "       [ 7,  8],\n",
       "       [ 9, 10]])"
      ]
     },
     "execution_count": 6,
     "metadata": {},
     "output_type": "execute_result"
    }
   ],
   "source": [
    "z = zip(a1, a2)\n",
    "a = np.array(list(z))\n",
    "a"
   ]
  },
  {
   "cell_type": "markdown",
   "id": "9269b491-a583-4aab-a2c1-b190dc14e055",
   "metadata": {},
   "source": [
    "# 様々なデータ列を束ねる"
   ]
  },
  {
   "cell_type": "code",
   "execution_count": 7,
   "id": "21a0ae95-0b90-4f0b-b148-fedc2a9198ef",
   "metadata": {},
   "outputs": [],
   "source": [
    "z = zip(a1, \"あいうえお\")"
   ]
  },
  {
   "cell_type": "code",
   "execution_count": 8,
   "id": "240f3856-dec5-4e9b-8410-7d2d681bea90",
   "metadata": {},
   "outputs": [
    {
     "data": {
      "text/plain": [
       "[(1, 'あ'), (3, 'い'), (5, 'う'), (7, 'え'), (9, 'お')]"
      ]
     },
     "execution_count": 8,
     "metadata": {},
     "output_type": "execute_result"
    }
   ],
   "source": [
    "list(z)"
   ]
  },
  {
   "cell_type": "code",
   "execution_count": 9,
   "id": "bd98cf37-0a21-4484-ad9c-045dc3dd4f64",
   "metadata": {},
   "outputs": [
    {
     "data": {
      "text/plain": [
       "[('あ', 'か', 'さ'),\n",
       " ('い', 'き', 'し'),\n",
       " ('う', 'く', 'す'),\n",
       " ('え', 'け', 'せ'),\n",
       " ('お', 'こ', 'そ')]"
      ]
     },
     "execution_count": 9,
     "metadata": {},
     "output_type": "execute_result"
    }
   ],
   "source": [
    "z = zip(\"あいうえお\", \"かきくけこ\", \"さしすせそ\")\n",
    "list(z)"
   ]
  },
  {
   "cell_type": "markdown",
   "id": "d225478b-6dc7-4994-9c8a-e365224a77ef",
   "metadata": {},
   "source": [
    "## 辞書作成への応用"
   ]
  },
  {
   "cell_type": "code",
   "execution_count": 10,
   "id": "79cf6d0a-e206-48c9-8978-1c9479b5f43e",
   "metadata": {},
   "outputs": [],
   "source": [
    "e = [\"dog\", \"cat\", \"bird\"]\n",
    "j = [\"犬\", \"猫\", \"鳥\"]\n",
    "z = zip(e, j)"
   ]
  },
  {
   "cell_type": "code",
   "execution_count": 11,
   "id": "3eb31fda-3be2-4ddb-b503-de9d5c90df1d",
   "metadata": {},
   "outputs": [
    {
     "data": {
      "text/plain": [
       "{'dog': '犬', 'cat': '猫', 'bird': '鳥'}"
      ]
     },
     "execution_count": 11,
     "metadata": {},
     "output_type": "execute_result"
    }
   ],
   "source": [
    "d = dict(list(z))\n",
    "d"
   ]
  },
  {
   "cell_type": "markdown",
   "id": "628845f2-a0f6-40db-9b52-925a0fe44a48",
   "metadata": {},
   "source": [
    "## 繰り返し処理への応用"
   ]
  },
  {
   "cell_type": "code",
   "execution_count": 12,
   "id": "bf0b91e9-1e03-4438-912b-dba6c2d3749f",
   "metadata": {},
   "outputs": [],
   "source": [
    "a1 = [1, 2, 3]\n",
    "a2 = [4, 5, 6]\n",
    "z = zip(a1, a2)"
   ]
  },
  {
   "cell_type": "code",
   "execution_count": 13,
   "id": "2e548dd6-6b3a-42c4-8436-1fa400a9db66",
   "metadata": {},
   "outputs": [
    {
     "name": "stdout",
     "output_type": "stream",
     "text": [
      "1 + 4 = 5\n",
      "2 + 5 = 7\n",
      "3 + 6 = 9\n"
     ]
    }
   ],
   "source": [
    "for x, y in z:\n",
    "    print(x, \"+\", y, \"=\", x + y)"
   ]
  },
  {
   "cell_type": "code",
   "execution_count": 14,
   "id": "af022b80-febe-48ce-a15f-c4ec7e37c519",
   "metadata": {},
   "outputs": [
    {
     "data": {
      "text/plain": [
       "range(0, 10)"
      ]
     },
     "execution_count": 14,
     "metadata": {},
     "output_type": "execute_result"
    }
   ],
   "source": [
    "r = range(10)\n",
    "r"
   ]
  },
  {
   "cell_type": "code",
   "execution_count": 15,
   "id": "9d235433-cd36-4136-8c65-f50a100bab32",
   "metadata": {},
   "outputs": [
    {
     "data": {
      "text/plain": [
       "[0, 1, 2, 3, 4, 5, 6, 7, 8, 9]"
      ]
     },
     "execution_count": 15,
     "metadata": {},
     "output_type": "execute_result"
    }
   ],
   "source": [
    "list(r)"
   ]
  },
  {
   "cell_type": "markdown",
   "id": "5edd2d8d-6d64-4886-9b44-6723ee6e6619",
   "metadata": {},
   "source": [
    "# 要素の整列"
   ]
  },
  {
   "cell_type": "code",
   "execution_count": 16,
   "id": "5c6d894c-1ebe-42dd-b74e-1d8a37024d2c",
   "metadata": {},
   "outputs": [
    {
     "data": {
      "text/plain": [
       "array([3, 5, 1, 4, 2, 6])"
      ]
     },
     "execution_count": 16,
     "metadata": {},
     "output_type": "execute_result"
    }
   ],
   "source": [
    "a = np.array([3, 5, 1, 4, 2, 6])\n",
    "a"
   ]
  },
  {
   "cell_type": "markdown",
   "id": "73703689-61e7-42f3-be62-51499b16d13a",
   "metadata": {},
   "source": [
    "## sort関数 元の配列を壊さない"
   ]
  },
  {
   "cell_type": "code",
   "execution_count": 17,
   "id": "34297566-65d2-49f2-b711-ac3f22d7f41c",
   "metadata": {},
   "outputs": [
    {
     "data": {
      "text/plain": [
       "array([1, 2, 3, 4, 5, 6])"
      ]
     },
     "execution_count": 17,
     "metadata": {},
     "output_type": "execute_result"
    }
   ],
   "source": [
    "a2 = np.sort(a)\n",
    "a2"
   ]
  },
  {
   "cell_type": "code",
   "execution_count": 18,
   "id": "5cc2b767-2747-4a04-adbc-341fefb90f88",
   "metadata": {},
   "outputs": [
    {
     "data": {
      "text/plain": [
       "array([3, 5, 1, 4, 2, 6])"
      ]
     },
     "execution_count": 18,
     "metadata": {},
     "output_type": "execute_result"
    }
   ],
   "source": [
    "a"
   ]
  },
  {
   "cell_type": "markdown",
   "id": "f76504a0-bd8d-48fa-8166-2f183f5f64ee",
   "metadata": {},
   "source": [
    "## sortメソッド 元の配列を変更する"
   ]
  },
  {
   "cell_type": "code",
   "execution_count": 19,
   "id": "ebe22c4d-8da5-4af2-a1da-40c60745c450",
   "metadata": {},
   "outputs": [
    {
     "data": {
      "text/plain": [
       "array([1, 2, 3, 4, 5, 6])"
      ]
     },
     "execution_count": 19,
     "metadata": {},
     "output_type": "execute_result"
    }
   ],
   "source": [
    "a.sort()\n",
    "a"
   ]
  },
  {
   "cell_type": "code",
   "execution_count": 23,
   "id": "d977e975-b8a2-4ba6-9ae5-ef71968308ec",
   "metadata": {},
   "outputs": [
    {
     "data": {
      "text/plain": [
       "array([3, 5, 1, 4, 2, 6])"
      ]
     },
     "execution_count": 23,
     "metadata": {},
     "output_type": "execute_result"
    }
   ],
   "source": [
    "a = np.array([3, 5, 1, 4, 2, 6])\n",
    "a"
   ]
  },
  {
   "cell_type": "markdown",
   "id": "ae975a56-8eae-4905-8a8e-efffc502a7b3",
   "metadata": {},
   "source": [
    "## 逆順にする"
   ]
  },
  {
   "cell_type": "code",
   "execution_count": 24,
   "id": "bf674f59-1445-443b-a8bb-03a084d65c41",
   "metadata": {},
   "outputs": [
    {
     "data": {
      "text/plain": [
       "array([6, 5, 4, 3, 2, 1])"
      ]
     },
     "execution_count": 24,
     "metadata": {},
     "output_type": "execute_result"
    }
   ],
   "source": [
    "a2 = np.sort(a)[::-1]\n",
    "a2"
   ]
  },
  {
   "cell_type": "code",
   "execution_count": 25,
   "id": "f92cb23b-222b-4486-8c34-60cb248bff9b",
   "metadata": {},
   "outputs": [
    {
     "data": {
      "text/plain": [
       "array([6, 5, 4, 3, 2, 1])"
      ]
     },
     "execution_count": 25,
     "metadata": {},
     "output_type": "execute_result"
    }
   ],
   "source": [
    "a2 = np.flip(np.sort(a))\n",
    "a2"
   ]
  },
  {
   "cell_type": "markdown",
   "id": "f5c4ec80-f832-4a29-bd03-e4147bb4026c",
   "metadata": {},
   "source": [
    "# 整列後にインデックスを得る"
   ]
  },
  {
   "cell_type": "code",
   "execution_count": 26,
   "id": "9b2f53e0-270c-42f4-9576-e4176795a35e",
   "metadata": {},
   "outputs": [
    {
     "data": {
      "text/plain": [
       "array([2, 4, 0, 3, 1, 5])"
      ]
     },
     "execution_count": 26,
     "metadata": {},
     "output_type": "execute_result"
    }
   ],
   "source": [
    "a2 = a.argsort()\n",
    "a2"
   ]
  },
  {
   "cell_type": "code",
   "execution_count": 27,
   "id": "cd9cb468-678d-4fc4-8fdc-779eb79b21f5",
   "metadata": {},
   "outputs": [
    {
     "data": {
      "text/plain": [
       "array([3, 5, 1, 4, 2, 6])"
      ]
     },
     "execution_count": 27,
     "metadata": {},
     "output_type": "execute_result"
    }
   ],
   "source": [
    "a"
   ]
  }
 ],
 "metadata": {
  "kernelspec": {
   "display_name": "Python 3 (ipykernel)",
   "language": "python",
   "name": "python3"
  },
  "language_info": {
   "codemirror_mode": {
    "name": "ipython",
    "version": 3
   },
   "file_extension": ".py",
   "mimetype": "text/x-python",
   "name": "python",
   "nbconvert_exporter": "python",
   "pygments_lexer": "ipython3",
   "version": "3.10.0"
  }
 },
 "nbformat": 4,
 "nbformat_minor": 5
}
