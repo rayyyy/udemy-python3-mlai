{
 "cells": [
  {
   "cell_type": "code",
   "execution_count": 1,
   "id": "3ee4225b-bd76-4abf-96a7-11e07707f988",
   "metadata": {},
   "outputs": [],
   "source": [
    "%load_ext lab_black"
   ]
  },
  {
   "cell_type": "markdown",
   "id": "23a93508-dce0-43e5-9d7e-31f0d8825e81",
   "metadata": {},
   "source": [
    "## NumPyの利用"
   ]
  },
  {
   "cell_type": "code",
   "execution_count": 2,
   "id": "b799cb74-2065-4c70-9b5a-4bba6837a37e",
   "metadata": {},
   "outputs": [],
   "source": [
    "import numpy as np"
   ]
  },
  {
   "cell_type": "code",
   "execution_count": 3,
   "id": "861fe2e6-9f40-4fcf-aaa0-3b32be2414bf",
   "metadata": {},
   "outputs": [],
   "source": [
    "x = np.arange(-2, 2, 0.2)"
   ]
  },
  {
   "cell_type": "code",
   "execution_count": 4,
   "id": "f3158330-aa44-4200-bde7-b96a0bb83aeb",
   "metadata": {},
   "outputs": [
    {
     "data": {
      "text/plain": [
       "array([-2.0000000e+00, -1.8000000e+00, -1.6000000e+00, -1.4000000e+00,\n",
       "       -1.2000000e+00, -1.0000000e+00, -8.0000000e-01, -6.0000000e-01,\n",
       "       -4.0000000e-01, -2.0000000e-01, -4.4408921e-16,  2.0000000e-01,\n",
       "        4.0000000e-01,  6.0000000e-01,  8.0000000e-01,  1.0000000e+00,\n",
       "        1.2000000e+00,  1.4000000e+00,  1.6000000e+00,  1.8000000e+00])"
      ]
     },
     "execution_count": 4,
     "metadata": {},
     "output_type": "execute_result"
    }
   ],
   "source": [
    "x"
   ]
  },
  {
   "cell_type": "code",
   "execution_count": 5,
   "id": "5e671676-febc-44ee-975a-8014e85d2562",
   "metadata": {},
   "outputs": [
    {
     "data": {
      "text/plain": [
       "-1.8"
      ]
     },
     "execution_count": 5,
     "metadata": {},
     "output_type": "execute_result"
    }
   ],
   "source": [
    "x[1]"
   ]
  },
  {
   "cell_type": "code",
   "execution_count": 6,
   "id": "ebfc0dfa-0a55-41aa-aceb-cbb425cdda1b",
   "metadata": {},
   "outputs": [],
   "source": [
    "y = x ** 2"
   ]
  },
  {
   "cell_type": "code",
   "execution_count": 7,
   "id": "2d3e2291-a3c1-460b-97c9-4a82d7789647",
   "metadata": {},
   "outputs": [
    {
     "data": {
      "text/plain": [
       "array([4.00000000e+00, 3.24000000e+00, 2.56000000e+00, 1.96000000e+00,\n",
       "       1.44000000e+00, 1.00000000e+00, 6.40000000e-01, 3.60000000e-01,\n",
       "       1.60000000e-01, 4.00000000e-02, 1.97215226e-31, 4.00000000e-02,\n",
       "       1.60000000e-01, 3.60000000e-01, 6.40000000e-01, 1.00000000e+00,\n",
       "       1.44000000e+00, 1.96000000e+00, 2.56000000e+00, 3.24000000e+00])"
      ]
     },
     "execution_count": 7,
     "metadata": {},
     "output_type": "execute_result"
    }
   ],
   "source": [
    "y"
   ]
  },
  {
   "cell_type": "code",
   "execution_count": 8,
   "id": "492ae142-1205-4b5e-9ff2-529bce88d289",
   "metadata": {},
   "outputs": [
    {
     "data": {
      "text/plain": [
       "numpy.ndarray"
      ]
     },
     "execution_count": 8,
     "metadata": {},
     "output_type": "execute_result"
    }
   ],
   "source": [
    "type(y)"
   ]
  },
  {
   "cell_type": "markdown",
   "id": "088da5a3-4a3c-4351-9e27-50efb4fe09ad",
   "metadata": {},
   "source": [
    "# matplotlibを使う"
   ]
  },
  {
   "cell_type": "code",
   "execution_count": 9,
   "id": "0a6cea28-9811-444c-b0a4-b48e4f98e67d",
   "metadata": {},
   "outputs": [],
   "source": [
    "import matplotlib.pyplot as plt"
   ]
  },
  {
   "cell_type": "code",
   "execution_count": 10,
   "id": "3bffae14-afdc-4428-98cf-fb4485630ebd",
   "metadata": {},
   "outputs": [
    {
     "data": {
      "text/plain": [
       "[<matplotlib.lines.Line2D at 0x7f8b78225300>]"
      ]
     },
     "execution_count": 10,
     "metadata": {},
     "output_type": "execute_result"
    },
    {
     "data": {
      "image/png": "[encoded data removed]",
      "text/plain": [
       "<Figure size 432x288 with 1 Axes>"
      ]
     },
     "metadata": {
      "needs_background": "light"
     },
     "output_type": "display_data"
    }
   ],
   "source": [
    "plt.plot(x, y)"
   ]
  },
  {
   "cell_type": "markdown",
   "id": "bae53f18-47dd-4728-8f2d-d54ba5fcdd07",
   "metadata": {},
   "source": [
    "## 正弦関数のプロット"
   ]
  },
  {
   "cell_type": "code",
   "execution_count": 11,
   "id": "45b26245-45a3-4400-9070-c306d5791b1b",
   "metadata": {},
   "outputs": [],
   "source": [
    "x = np.arange(0, 6.5, 0.2)\n",
    "y = np.sin(x)"
   ]
  },
  {
   "cell_type": "code",
   "execution_count": 12,
   "id": "9e644f93-5be2-40c8-9269-5d3078538ab2",
   "metadata": {},
   "outputs": [
    {
     "name": "stdout",
     "output_type": "stream",
     "text": [
      "[0.  0.2 0.4 0.6 0.8 1.  1.2 1.4 1.6 1.8 2.  2.2 2.4 2.6 2.8 3.  3.2 3.4\n",
      " 3.6 3.8 4.  4.2 4.4 4.6 4.8 5.  5.2 5.4 5.6 5.8 6.  6.2 6.4]\n",
      "[ 0.          0.19866933  0.38941834  0.56464247  0.71735609  0.84147098\n",
      "  0.93203909  0.98544973  0.9995736   0.97384763  0.90929743  0.8084964\n",
      "  0.67546318  0.51550137  0.33498815  0.14112001 -0.05837414 -0.2555411\n",
      " -0.44252044 -0.61185789 -0.7568025  -0.87157577 -0.95160207 -0.993691\n",
      " -0.99616461 -0.95892427 -0.88345466 -0.77276449 -0.63126664 -0.46460218\n",
      " -0.2794155  -0.0830894   0.1165492 ]\n"
     ]
    }
   ],
   "source": [
    "print(x)\n",
    "print(y)"
   ]
  },
  {
   "cell_type": "code",
   "execution_count": 13,
   "id": "761d3775-a833-40ac-8a3d-734633666bd2",
   "metadata": {},
   "outputs": [
    {
     "data": {
      "text/plain": [
       "[<matplotlib.lines.Line2D at 0x7f8b760f41f0>]"
      ]
     },
     "execution_count": 13,
     "metadata": {},
     "output_type": "execute_result"
    },
    {
     "data": {
      "image/png": "[encoded data removed]",
      "text/plain": [
       "<Figure size 432x288 with 1 Axes>"
      ]
     },
     "metadata": {
      "needs_background": "light"
     },
     "output_type": "display_data"
    }
   ],
   "source": [
    "plt.plot(x, y)"
   ]
  }
 ],
 "metadata": {
  "kernelspec": {
   "display_name": "Python 3 (ipykernel)",
   "language": "python",
   "name": "python3"
  },
  "language_info": {
   "codemirror_mode": {
    "name": "ipython",
    "version": 3
   },
   "file_extension": ".py",
   "mimetype": "text/x-python",
   "name": "python",
   "nbconvert_exporter": "python",
   "pygments_lexer": "ipython3",
   "version": "3.10.0"
  }
 },
 "nbformat": 4,
 "nbformat_minor": 5
}
